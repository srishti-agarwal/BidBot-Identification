{
 "cells": [
  {
   "cell_type": "code",
   "execution_count": 2,
   "metadata": {
    "_uuid": "8f2839f25d086af736a60e9eeb907d3b93b6e0e5",
    "_kg_hide-input": false,
    "_kg_hide-output": true,
    "_cell_guid": "b1076dfc-b9ad-4769-8c92-a6c4dae69d19",
    "trusted": true
   },
   "outputs": [
    {
     "name": "stdout",
     "output_type": "stream",
     "text": [
      "['bids.csv', 'train.csv', 'test.csv']\n"
     ]
    }
   ],
   "source": [
    "# This Python 3 environment comes with many helpful analytics libraries installed\n",
    "# It is defined by the kaggle/python docker image: https://github.com/kaggle/docker-python\n",
    "# For example, here's several helpful packages to load in \n",
    "\n",
    "import numpy as np # linear algebra\n",
    "import pandas as pd # data processing, CSV file I/O (e.g. pd.read_csv)\n",
    "\n",
    "# Input data files are available in the \"../input/\" directory.\n",
    "# For example, running this (by clicking run or pressing Shift+Enter) will list the files in the input directory\n",
    "\n",
    "import os\n",
    "print(os.listdir(\"../input\"))\n",
    "\n",
    "# Any results you write to the current directory are saved as output."
   ]
  },
  {
   "cell_type": "code",
   "execution_count": 3,
   "metadata": {
    "_uuid": "d629ff2d2480ee46fbb7e2d37f6b5fab8052498a",
    "_cell_guid": "79c7e3d0-c299-4dcb-8224-4455121ee9b0",
    "trusted": true
   },
   "outputs": [
    {
     "name": "stdout",
     "output_type": "stream",
     "text": [
      "   bid_id                              bidder_id auction merchandise  device  \\\n0       0  8dac2b259fd1c6d1120e519fb1ac14fbqvax8   ewmzr     jewelry  phone0   \n1       1  668d393e858e8126275433046bbd35c6tywop   aeqok   furniture  phone1   \n2       2  aa5f360084278b35d746fa6af3a7a1a5ra3xe   wa00e  home goods  phone2   \n3       3  3939ac3ef7d472a59a9c5f893dd3e39fh9ofi   jefix     jewelry  phone4   \n4       4  8393c48eaf4b8fa96886edc7cf27b372dsibi   jefix     jewelry  phone5   \n\n           time country              ip              url  \n0  9.759240e+15      us   69.166.231.58  vasstdc27m7nks3  \n1  9.759240e+15      in   50.201.125.84  jmqlhflrzwuay9c  \n2  9.759240e+15      py  112.54.208.157  vasstdc27m7nks3  \n3  9.759240e+15      in   18.99.175.133  vasstdc27m7nks3  \n4  9.759240e+15      in    145.138.5.37  vasstdc27m7nks3  \n                               bidder_id  \\\n0  91a3c57b13234af24875c56fb7e2b2f4rb56a   \n1  624f258b49e77713fc34034560f93fb3hu3jo   \n2  1c5f4fc669099bfbfac515cd26997bd12ruaj   \n3  4bee9aba2abda51bf43d639013d6efe12iycd   \n4  4ab12bc61c82ddd9c2d65e60555808acqgos1   \n\n                         payment_account  \\\n0  a3d2de7675556553a5f08e4c88d2c228754av   \n1  a3d2de7675556553a5f08e4c88d2c228v1sga   \n2  a3d2de7675556553a5f08e4c88d2c2280cybl   \n3  51d80e233f7b6a7dfdee484a3c120f3b2ita8   \n4  a3d2de7675556553a5f08e4c88d2c22857ddh   \n\n                                 address  outcome  \n0  a3d2de7675556553a5f08e4c88d2c228vt0u4      0.0  \n1  ae87054e5a97a8f840a3991d12611fdcrfbq3      0.0  \n2  92520288b50f03907041887884ba49c0cl0pd      0.0  \n3  4cb9717c8ad7e88a9a284989dd79b98dbevyi      0.0  \n4  2a96c3ce94b3be921e0296097b88b56a7x1ji      0.0  \n                               bidder_id  \\\n0  49bb5a3c944b8fc337981cc7a9ccae41u31d7   \n1  a921612b85a1494456e74c09393ccb65ylp4y   \n2  6b601e72a4d264dab9ace9d7b229b47479v6i   \n3  eaf0ed0afc9689779417274b4791726cn5udi   \n4  cdecd8d02ed8c6037e38042c7745f688mx5sf   \n\n                         payment_account  \\\n0  a3d2de7675556553a5f08e4c88d2c228htx90   \n1  a3d2de7675556553a5f08e4c88d2c228rs17i   \n2  925381cce086b8cc9594eee1c77edf665zjpl   \n3  a3d2de7675556553a5f08e4c88d2c228nclv5   \n4  a3d2de7675556553a5f08e4c88d2c228dtdkd   \n\n                                 address  \n0  5d9fa1b71f992e7c7a106ce4b07a0a754le7c  \n1  a3d2de7675556553a5f08e4c88d2c228klidn  \n2  a3d2de7675556553a5f08e4c88d2c228aght0  \n3  b5714de1fd69d4a0d2e39d59e53fe9e15vwat  \n4  c3b363a3c3b838d58c85acf0fc9964cb4pnfa  \n"
     ]
    }
   ],
   "source": [
    "bid_data = pd.read_csv('../input/bids.csv')\n",
    "print (bid_data.head(5))\n",
    "train_data = pd.read_csv('../input/train.csv')\n",
    "print (train_data.head(5))\n",
    "test_data = pd.read_csv('../input/test.csv')\n",
    "print (test_data.head(5))"
   ]
  },
  {
   "cell_type": "code",
   "execution_count": 4,
   "metadata": {
    "collapsed": true,
    "_uuid": "2f303fd1750b59610c3d8c09314409616331f9aa",
    "_cell_guid": "f53713cd-be4d-489c-81c9-36aabc724b1c",
    "trusted": true
   },
   "outputs": [],
   "source": [
    "def numberofActions(line, dataGrouped, dataid):\n",
    "    if not line['bidder_id'] in dataid:\n",
    "        return 0\n",
    "    else:\n",
    "        return dataGrouped[line['bidder_id']]\n",
    "\n",
    "def mergingFeature(line, features, dataid):\n",
    "    if not line['bidder_id'] in dataid:\n",
    "        return 0\n",
    "    else:\n",
    "        return features[line['bidder_id']] \n",
    "    \n",
    "def findMerchandise(line,grouped,dict,dataid):\n",
    "    res = np.zeros(10)\n",
    "    if line in dataid:\n",
    "        merch = np.array(grouped[grouped['bidder_id']==line]['merchandise'])[0]\n",
    "#         print merch\n",
    "        res[dict[merch]] = 1\n",
    "    return tuple(res)\n"
   ]
  },
  {
   "cell_type": "code",
   "execution_count": 5,
   "metadata": {
    "collapsed": true,
    "_uuid": "982af4b106e81655c908e3fa8cd994b1961936ed",
    "_cell_guid": "19463c76-3072-4321-a33d-60d51d75cdeb",
    "trusted": true
   },
   "outputs": [],
   "source": [
    "def basicCountsPerUser():\n",
    "    bidderList = bid_data['bidder_id'].unique()\n",
    "    countryCount = bid_data['country'].groupby(bid_data['bidder_id']).count()\n",
    "    ipCount = bid_data['ip'].groupby(bid_data['bidder_id']).count()\n",
    "    urlCount = bid_data['url'].groupby(bid_data['bidder_id']).count()\n",
    "    deviceCount = bid_data['device'].groupby(bid_data['bidder_id']).count()\n",
    "    auctionCount = bid_data['auction'].groupby(bid_data['bidder_id']).count()\n",
    "    grBidCount = bid_data['bid_id'].groupby(bid_data['bidder_id']).count()\n",
    "    grMerchandiseCount = bid_data['merchandise'].groupby(bid_data['bidder_id']).count()\n",
    "    payAccCountTrainList = train_data['payment_account'].groupby(train_data['bidder_id']).count()\n",
    "    payAccCountTestList = test_data['payment_account'].groupby(test_data['bidder_id']).count()\n",
    "    addressCountTrainList = train_data['address'].groupby(train_data['bidder_id']).count()\n",
    "    addressCountTestList = test_data['address'].groupby(test_data['bidder_id']).count()\n",
    "\n",
    "    train_data['nb0fCountry'] = train_data.apply(lambda x: numberofActions(x, countryCount, bidderList), axis=1)\n",
    "    test_data['nb0fCountry'] = test_data.apply(lambda x: numberofActions(x, countryCount, bidderList), axis=1)\n",
    "\n",
    "    train_data['nb0fIP'] = train_data.apply(lambda x: numberofActions(x, ipCount, bidderList), axis=1)\n",
    "    test_data['nb0fIP'] = test_data.apply(lambda x: numberofActions(x, ipCount, bidderList), axis=1)\n",
    "\n",
    "    train_data['nb0fURL'] = train_data.apply(lambda x: numberofActions(x, urlCount, bidderList), axis=1)\n",
    "    test_data['nb0fURL'] = test_data.apply(lambda x: numberofActions(x, urlCount, bidderList), axis=1)\n",
    "\n",
    "    train_data['nb0fDevice'] = train_data.apply(lambda x: numberofActions(x, deviceCount, bidderList), axis=1)\n",
    "    test_data['nb0fDevice'] = test_data.apply(lambda x: numberofActions(x, deviceCount, bidderList), axis=1)\n",
    "\n",
    "    train_data['nb0fAuction'] = train_data.apply(lambda x: numberofActions(x, auctionCount, bidderList), axis=1)\n",
    "    test_data['nb0fAuction'] = test_data.apply(lambda x: numberofActions(x, auctionCount, bidderList), axis=1)\n",
    "\n",
    "    train_data['nb0fBids'] = train_data.apply(lambda x: numberofActions(x, grBidCount, bidderList), axis=1)\n",
    "    test_data['nb0fBids'] = test_data.apply(lambda x: numberofActions(x, grBidCount, bidderList), axis=1)\n",
    "\n",
    "    train_data['nb0fMerch'] = train_data.apply(lambda x: numberofActions(x, grMerchandiseCount, bidderList), axis=1)\n",
    "    test_data['nb0fMerch'] = test_data.apply(lambda x: numberofActions(x, grMerchandiseCount, bidderList), axis=1)\n",
    "\n",
    "    train_data['nb0fPayAcc'] = train_data.apply(lambda x: numberofActions(x, payAccCountTrainList, bidderList), axis=1)\n",
    "    test_data['nb0fPayAcc'] = test_data.apply(lambda x: numberofActions(x, payAccCountTestList, bidderList), axis=1)\n",
    "\n",
    "    train_data['nb0fAdress'] = train_data.apply(lambda x: numberofActions(x, addressCountTrainList, bidderList), axis=1)\n",
    "    test_data['nb0fAdress'] = test_data.apply(lambda x: numberofActions(x, addressCountTestList, bidderList), axis=1)\n",
    "    "
   ]
  },
  {
   "cell_type": "code",
   "execution_count": 6,
   "metadata": {
    "_uuid": "d677ab646846a20e0a888de49e911022fd0bd32c",
    "_cell_guid": "09fbd661-dd2b-4b6b-a724-a1713c362e86",
    "trusted": true,
    "collapsed": true
   },
   "outputs": [],
   "source": [
    "def bidsOnSelf():\n",
    "    bidderList = bid_data['bidder_id'].unique()\n",
    "    tmp_data = bid_data.sort_values(['auction', 'time']).groupby(bid_data['auction'])\n",
    "    countBidsOnSelf = {}\n",
    "    for t in tmp_data:\n",
    "        prev = ''\n",
    "        count = 0\n",
    "        for b in t[1]['bidder_id']:\n",
    "            if(b == prev):\n",
    "                if(b in countBidsOnSelf.keys()):\n",
    "                    count = countBidsOnSelf[b]\n",
    "                    count += 1\n",
    "            countBidsOnSelf[b] = count\n",
    "            count = 0\n",
    "            prev = b\n",
    "    train_data['nb0fBidsOnSelf'] = train_data.apply(lambda x: mergingFeature(x, countBidsOnSelf, bidderList), axis=1)\n",
    "    test_data['nb0fBidsOnSelf'] = test_data.apply(lambda x: mergingFeature(x, countBidsOnSelf, bidderList), axis=1)"
   ]
  },
  {
   "cell_type": "code",
   "execution_count": 7,
   "metadata": {
    "collapsed": true,
    "_uuid": "2027fa9aec22d3b3ede9246838e2b9737831c545",
    "_cell_guid": "c1b6b9bc-571a-4fb2-980c-73ed3647f4b7",
    "trusted": true
   },
   "outputs": [],
   "source": [
    "\n",
    "def basicUniqueCountsPerUser():\n",
    "    bidderList = bid_data['bidder_id'].unique()\n",
    "    countryCount = bid_data['country'].groupby(bid_data['bidder_id']).nunique()\n",
    "    ipCount = bid_data['ip'].groupby(bid_data['bidder_id']).nunique()\n",
    "    urlCount = bid_data['url'].groupby(bid_data['bidder_id']).nunique()\n",
    "    deviceCount = bid_data['device'].groupby(bid_data['bidder_id']).nunique()\n",
    "    auctionCount = bid_data['auction'].groupby(bid_data['bidder_id']).nunique()\n",
    "    grBidCount = bid_data['bid_id'].groupby(bid_data['bidder_id']).nunique()\n",
    "    grMerchandiseCount = bid_data['merchandise'].groupby(bid_data['bidder_id']).nunique()\n",
    "    payAccCountTrainList = train_data['payment_account'].groupby(train_data['bidder_id']).nunique()\n",
    "    payAccCountTestList = test_data['payment_account'].groupby(test_data['bidder_id']).nunique()\n",
    "    addressCountTrainList = train_data['address'].groupby(train_data['bidder_id']).nunique()\n",
    "    addressCountTestList = test_data['address'].groupby(test_data['bidder_id']).nunique()\n",
    "\n",
    "    train_data['nb0fUniqueCountry'] = train_data.apply(lambda x: numberofActions(x, countryCount, bidderList), axis=1)\n",
    "    test_data['nb0fUniqueCountry'] = test_data.apply(lambda x: numberofActions(x, countryCount, bidderList), axis=1)\n",
    "\n",
    "    train_data['nb0fUniqueIP'] = train_data.apply(lambda x: numberofActions(x, ipCount, bidderList), axis=1)\n",
    "    test_data['nb0fUniqueIP'] = test_data.apply(lambda x: numberofActions(x, ipCount, bidderList), axis=1)\n",
    "\n",
    "    train_data['nb0fUniqueURL'] = train_data.apply(lambda x: numberofActions(x, urlCount, bidderList), axis=1)\n",
    "    test_data['nb0fUniqueURL'] = test_data.apply(lambda x: numberofActions(x, urlCount, bidderList), axis=1)\n",
    "\n",
    "    train_data['nb0fUniqueDevice'] = train_data.apply(lambda x: numberofActions(x, deviceCount, bidderList), axis=1)\n",
    "    test_data['nb0fUniqueDevice'] = test_data.apply(lambda x: numberofActions(x, deviceCount, bidderList), axis=1)\n",
    "\n",
    "    train_data['nb0fUniqueAuction'] = train_data.apply(lambda x: numberofActions(x, auctionCount, bidderList), axis=1)\n",
    "    test_data['nb0fUniqueAuction'] = test_data.apply(lambda x: numberofActions(x, auctionCount, bidderList), axis=1)\n",
    "\n",
    "    train_data['nb0fUniqueBids'] = train_data.apply(lambda x: numberofActions(x, grBidCount, bidderList), axis=1)\n",
    "    test_data['nb0fUniqueBids'] = test_data.apply(lambda x: numberofActions(x, grBidCount, bidderList), axis=1)\n",
    "\n",
    "    train_data['nb0fUniqueMerch'] = train_data.apply(lambda x: numberofActions(x, grMerchandiseCount, bidderList), axis=1)\n",
    "    test_data['nb0fUniqueMerch'] = test_data.apply(lambda x: numberofActions(x, grMerchandiseCount, bidderList), axis=1)\n",
    "\n",
    "    train_data['nb0fUniquePayAcc'] = train_data.apply(lambda x: numberofActions(x, payAccCountTrainList, bidderList), axis=1)\n",
    "    test_data['nb0fUniquePayAcc'] = test_data.apply(lambda x: numberofActions(x, payAccCountTestList, bidderList), axis=1)\n",
    "\n",
    "    train_data['nb0fUniqueAdress'] = train_data.apply(lambda x: numberofActions(x, addressCountTrainList, bidderList), axis=1)\n",
    "    test_data['nb0fUniqueAdress'] = test_data.apply(lambda x: numberofActions(x, addressCountTestList, bidderList), axis=1)"
   ]
  },
  {
   "cell_type": "code",
   "execution_count": 9,
   "metadata": {
    "collapsed": true,
    "_uuid": "6bf4935e824b6218d33c3d14639abae9907735f0",
    "_cell_guid": "f4d2f250-b4ec-487f-92b6-afa4a9d6338e",
    "trusted": true
   },
   "outputs": [],
   "source": [
    "def granularMerchandise():\n",
    "    merchList = bid_data['merchandise'].unique()\n",
    "#     print merchList\n",
    "    train_data[['jewelry', 'furniture', 'home goods', 'mobile', 'sporting goods',\n",
    "           'office equipment', 'computers', 'books and music', 'clothing',\n",
    "           'auto parts']] = pd.DataFrame(np.zeros((train_data.shape[0], 10)),\n",
    "                                         columns=['jewelry', 'furniture', 'home goods', 'mobile', 'sporting goods',\n",
    "                                                  'office equipment', 'computers', 'books and music', 'clothing',\n",
    "                                                  'auto parts'])\n",
    "\n",
    "    test_data[['jewelry', 'furniture', 'home goods', 'mobile', 'sporting goods',\n",
    "          'office equipment', 'computers', 'books and music', 'clothing',\n",
    "          'auto parts']] = pd.DataFrame(np.zeros((train_data.shape[0], 10)),\n",
    "                                        columns=['jewelry', 'furniture', 'home goods', 'mobile', 'sporting goods',\n",
    "                                                 'office equipment', 'computers', 'books and music', 'clothing',\n",
    "                                                 'auto parts'])\n",
    "\n",
    "    grouped = bid_data[['bidder_id', 'merchandise']].drop_duplicates()\n",
    "    res = train_data['bidder_id'].map(lambda x: findMerchandise(x, grouped, dict, merchList))\n",
    "    (train_data['jewelry'], train_data['furniture'], train_data['home goods'],\n",
    "     train_data['mobile'], train_data['sporting goods'], train_data['office equipment'],\n",
    "     train_data['computers'], train_data['books and music'], train_data['clothing'], train_data['auto parts']) = zip(*res)\n",
    "    res = test_data['bidder_id'].map(lambda x: findMerchandise(x, grouped, dict, merchList))\n",
    "    (test_data['jewelry'], test_data['furniture'], test_data['home goods'],\n",
    "     test_data['mobile'], test_data['sporting goods'], test_data['office equipment'],\n",
    "     test_data['computers'], test_data['books and music'], test_data['clothing'], test_data['auto parts']) = zip(*res)"
   ]
  },
  {
   "cell_type": "code",
   "execution_count": 12,
   "metadata": {
    "_uuid": "fe3aac3e74807c363d391323a9b3b5a94643eb7c",
    "_cell_guid": "8dcdf723-f21c-40d9-b1bf-abff64eeaaf9",
    "trusted": true
   },
   "outputs": [
    {
     "ename": "ValueError",
     "evalue": "labels ['outcome'] not contained in axis",
     "traceback": [
      "\u001b[0;31m---------------------------------------------------------------------------\u001b[0m",
      "\u001b[0;31mValueError\u001b[0m                                Traceback (most recent call last)",
      "\u001b[0;32m<ipython-input-12-c1ffabcc8f01>\u001b[0m in \u001b[0;36m<module>\u001b[0;34m()\u001b[0m\n\u001b[1;32m     19\u001b[0m \u001b[0;34m\u001b[0m\u001b[0m\n\u001b[1;32m     20\u001b[0m \u001b[0;34m\u001b[0m\u001b[0m\n\u001b[0;32m---> 21\u001b[0;31m \u001b[0mtestModel\u001b[0m\u001b[0;34m(\u001b[0m\u001b[0;34m)\u001b[0m\u001b[0;34m\u001b[0m\u001b[0m\n\u001b[0m",
      "\u001b[0;32m<ipython-input-12-c1ffabcc8f01>\u001b[0m in \u001b[0;36mtestModel\u001b[0;34m()\u001b[0m\n\u001b[1;32m     12\u001b[0m     \u001b[0mX_train\u001b[0m \u001b[0;34m=\u001b[0m \u001b[0mtempTrainData\u001b[0m\u001b[0;34m.\u001b[0m\u001b[0mdrop\u001b[0m\u001b[0;34m(\u001b[0m\u001b[0;34m[\u001b[0m\u001b[0;34m\"bidder_id\"\u001b[0m\u001b[0;34m,\u001b[0m \u001b[0;34m\"outcome\"\u001b[0m\u001b[0;34m,\u001b[0m \u001b[0;34m\"payment_account\"\u001b[0m\u001b[0;34m,\u001b[0m \u001b[0;34m\"address\"\u001b[0m\u001b[0;34m]\u001b[0m\u001b[0;34m,\u001b[0m \u001b[0maxis\u001b[0m\u001b[0;34m=\u001b[0m\u001b[0;36m1\u001b[0m\u001b[0;34m)\u001b[0m\u001b[0;34m\u001b[0m\u001b[0m\n\u001b[1;32m     13\u001b[0m     \u001b[0mY_train\u001b[0m \u001b[0;34m=\u001b[0m \u001b[0mtempTrainData\u001b[0m\u001b[0;34m[\u001b[0m\u001b[0;34m\"outcome\"\u001b[0m\u001b[0;34m]\u001b[0m\u001b[0;34m\u001b[0m\u001b[0m\n\u001b[0;32m---> 14\u001b[0;31m     \u001b[0mX_test\u001b[0m \u001b[0;34m=\u001b[0m \u001b[0mtempTestData\u001b[0m\u001b[0;34m.\u001b[0m\u001b[0mdrop\u001b[0m\u001b[0;34m(\u001b[0m\u001b[0;34m[\u001b[0m\u001b[0;34m\"bidder_id\"\u001b[0m\u001b[0;34m,\u001b[0m \u001b[0;34m\"outcome\"\u001b[0m\u001b[0;34m,\u001b[0m \u001b[0;34m\"payment_account\"\u001b[0m\u001b[0;34m,\u001b[0m \u001b[0;34m\"address\"\u001b[0m\u001b[0;34m]\u001b[0m\u001b[0;34m,\u001b[0m \u001b[0maxis\u001b[0m\u001b[0;34m=\u001b[0m\u001b[0;36m1\u001b[0m\u001b[0;34m)\u001b[0m\u001b[0;34m\u001b[0m\u001b[0m\n\u001b[0m\u001b[1;32m     15\u001b[0m     \u001b[0mlogisticRegr\u001b[0m \u001b[0;34m=\u001b[0m \u001b[0mLogisticRegression\u001b[0m\u001b[0;34m(\u001b[0m\u001b[0;34m)\u001b[0m\u001b[0;34m\u001b[0m\u001b[0m\n\u001b[1;32m     16\u001b[0m \u001b[0;31m#     print (cross_val_score(logisticRegr, X_train, Y_train, cv=3).mean())\u001b[0m\u001b[0;34m\u001b[0m\u001b[0;34m\u001b[0m\u001b[0m\n",
      "\u001b[0;32m/opt/conda/lib/python3.6/site-packages/pandas/core/generic.py\u001b[0m in \u001b[0;36mdrop\u001b[0;34m(self, labels, axis, index, columns, level, inplace, errors)\u001b[0m\n\u001b[1;32m   2528\u001b[0m         \u001b[0;32mfor\u001b[0m \u001b[0maxis\u001b[0m\u001b[0;34m,\u001b[0m \u001b[0mlabels\u001b[0m \u001b[0;32min\u001b[0m \u001b[0maxes\u001b[0m\u001b[0;34m.\u001b[0m\u001b[0mitems\u001b[0m\u001b[0;34m(\u001b[0m\u001b[0;34m)\u001b[0m\u001b[0;34m:\u001b[0m\u001b[0;34m\u001b[0m\u001b[0m\n\u001b[1;32m   2529\u001b[0m             \u001b[0;32mif\u001b[0m \u001b[0mlabels\u001b[0m \u001b[0;32mis\u001b[0m \u001b[0;32mnot\u001b[0m \u001b[0;32mNone\u001b[0m\u001b[0;34m:\u001b[0m\u001b[0;34m\u001b[0m\u001b[0m\n\u001b[0;32m-> 2530\u001b[0;31m                 \u001b[0mobj\u001b[0m \u001b[0;34m=\u001b[0m \u001b[0mobj\u001b[0m\u001b[0;34m.\u001b[0m\u001b[0m_drop_axis\u001b[0m\u001b[0;34m(\u001b[0m\u001b[0mlabels\u001b[0m\u001b[0;34m,\u001b[0m \u001b[0maxis\u001b[0m\u001b[0;34m,\u001b[0m \u001b[0mlevel\u001b[0m\u001b[0;34m=\u001b[0m\u001b[0mlevel\u001b[0m\u001b[0;34m,\u001b[0m \u001b[0merrors\u001b[0m\u001b[0;34m=\u001b[0m\u001b[0merrors\u001b[0m\u001b[0;34m)\u001b[0m\u001b[0;34m\u001b[0m\u001b[0m\n\u001b[0m\u001b[1;32m   2531\u001b[0m \u001b[0;34m\u001b[0m\u001b[0m\n\u001b[1;32m   2532\u001b[0m         \u001b[0;32mif\u001b[0m \u001b[0minplace\u001b[0m\u001b[0;34m:\u001b[0m\u001b[0;34m\u001b[0m\u001b[0m\n",
      "\u001b[0;32m/opt/conda/lib/python3.6/site-packages/pandas/core/generic.py\u001b[0m in \u001b[0;36m_drop_axis\u001b[0;34m(self, labels, axis, level, errors)\u001b[0m\n\u001b[1;32m   2560\u001b[0m                 \u001b[0mnew_axis\u001b[0m \u001b[0;34m=\u001b[0m \u001b[0maxis\u001b[0m\u001b[0;34m.\u001b[0m\u001b[0mdrop\u001b[0m\u001b[0;34m(\u001b[0m\u001b[0mlabels\u001b[0m\u001b[0;34m,\u001b[0m \u001b[0mlevel\u001b[0m\u001b[0;34m=\u001b[0m\u001b[0mlevel\u001b[0m\u001b[0;34m,\u001b[0m \u001b[0merrors\u001b[0m\u001b[0;34m=\u001b[0m\u001b[0merrors\u001b[0m\u001b[0;34m)\u001b[0m\u001b[0;34m\u001b[0m\u001b[0m\n\u001b[1;32m   2561\u001b[0m             \u001b[0;32melse\u001b[0m\u001b[0;34m:\u001b[0m\u001b[0;34m\u001b[0m\u001b[0m\n\u001b[0;32m-> 2562\u001b[0;31m                 \u001b[0mnew_axis\u001b[0m \u001b[0;34m=\u001b[0m \u001b[0maxis\u001b[0m\u001b[0;34m.\u001b[0m\u001b[0mdrop\u001b[0m\u001b[0;34m(\u001b[0m\u001b[0mlabels\u001b[0m\u001b[0;34m,\u001b[0m \u001b[0merrors\u001b[0m\u001b[0;34m=\u001b[0m\u001b[0merrors\u001b[0m\u001b[0;34m)\u001b[0m\u001b[0;34m\u001b[0m\u001b[0m\n\u001b[0m\u001b[1;32m   2563\u001b[0m             \u001b[0mdropped\u001b[0m \u001b[0;34m=\u001b[0m \u001b[0mself\u001b[0m\u001b[0;34m.\u001b[0m\u001b[0mreindex\u001b[0m\u001b[0;34m(\u001b[0m\u001b[0;34m**\u001b[0m\u001b[0;34m{\u001b[0m\u001b[0maxis_name\u001b[0m\u001b[0;34m:\u001b[0m \u001b[0mnew_axis\u001b[0m\u001b[0;34m}\u001b[0m\u001b[0;34m)\u001b[0m\u001b[0;34m\u001b[0m\u001b[0m\n\u001b[1;32m   2564\u001b[0m             \u001b[0;32mtry\u001b[0m\u001b[0;34m:\u001b[0m\u001b[0;34m\u001b[0m\u001b[0m\n",
      "\u001b[0;32m/opt/conda/lib/python3.6/site-packages/pandas/core/indexes/base.py\u001b[0m in \u001b[0;36mdrop\u001b[0;34m(self, labels, errors)\u001b[0m\n\u001b[1;32m   3742\u001b[0m             \u001b[0;32mif\u001b[0m \u001b[0merrors\u001b[0m \u001b[0;34m!=\u001b[0m \u001b[0;34m'ignore'\u001b[0m\u001b[0;34m:\u001b[0m\u001b[0;34m\u001b[0m\u001b[0m\n\u001b[1;32m   3743\u001b[0m                 raise ValueError('labels %s not contained in axis' %\n\u001b[0;32m-> 3744\u001b[0;31m                                  labels[mask])\n\u001b[0m\u001b[1;32m   3745\u001b[0m             \u001b[0mindexer\u001b[0m \u001b[0;34m=\u001b[0m \u001b[0mindexer\u001b[0m\u001b[0;34m[\u001b[0m\u001b[0;34m~\u001b[0m\u001b[0mmask\u001b[0m\u001b[0;34m]\u001b[0m\u001b[0;34m\u001b[0m\u001b[0m\n\u001b[1;32m   3746\u001b[0m         \u001b[0;32mreturn\u001b[0m \u001b[0mself\u001b[0m\u001b[0;34m.\u001b[0m\u001b[0mdelete\u001b[0m\u001b[0;34m(\u001b[0m\u001b[0mindexer\u001b[0m\u001b[0;34m)\u001b[0m\u001b[0;34m\u001b[0m\u001b[0m\n",
      "\u001b[0;31mValueError\u001b[0m: labels ['outcome'] not contained in axis"
     ],
     "output_type": "error"
    }
   ],
   "source": [
    "from sklearn.linear_model import LogisticRegression\n",
    "from sklearn.model_selection import cross_val_score\n",
    "\n",
    "def testModel():\n",
    "#     print (train_data.head(5))\n",
    "    basicCountsPerUser()\n",
    "    basicUniqueCountsPerUser()\n",
    "    granularMerchandise()\n",
    "    bidsOnSelf()\n",
    "    tempTrainData = train_data\n",
    "    tempTestData = test_data\n",
    "    X_train = tempTrainData.drop([\"bidder_id\", \"outcome\", \"payment_account\", \"address\"], axis=1)\n",
    "    Y_train = tempTrainData[\"outcome\"]\n",
    "    X_test = tempTestData.drop([\"bidder_id\", \"outcome\", \"payment_account\", \"address\"], axis=1)\n",
    "    logisticRegr = LogisticRegression()\n",
    "    print (cross_val_score(logisticRegr, X_train, Y_train, cv=3).mean())\n",
    "testModel()\n"
   ]
  },
  {
   "cell_type": "code",
   "execution_count": 32,
   "metadata": {
    "trusted": true,
    "_uuid": "c48dccc9a2efcedcf2ef39ddfb85db3c97b613f0"
   },
   "outputs": [
    {
     "data": {
      "image/png": "[encoded data removed]",
      "text/plain": [
       "<matplotlib.figure.Figure at 0x7f34cf11bef0>"
      ]
     },
     "metadata": {},
     "output_type": "display_data"
    }
   ],
   "source": [
    "from sklearn.cross_validation import StratifiedKFold\n",
    "from sklearn.ensemble import RandomForestClassifier\n",
    "from sklearn.metrics import roc_curve, auc\n",
    "from scipy import interp\n",
    "import matplotlib.pyplot as plt\n",
    "\n",
    "tempTrainData = train_data\n",
    "tempTestData = test_data\n",
    "X_train = tempTrainData.drop([\"bidder_id\", \"outcome\", \"payment_account\", \"address\"], axis=1)\n",
    "# X_train = tempTrainData[\"nb0fBids\"].reshape(-1, 1)\n",
    "Y_train = tempTrainData[\"outcome\"]\n",
    "X=np.array(X_train)\n",
    "y=np.array(Y_train)\n",
    "cv = StratifiedKFold(y, n_folds=4)\n",
    "# classifier = LogisticRegression()\n",
    "classifier = RandomForestClassifier(n_estimators=2000,max_depth=20,min_samples_leaf=1)\n",
    "\n",
    "mean_tpr = 0.0\n",
    "mean_fpr = np.linspace(0, 1, 100)\n",
    "all_tpr = []\n",
    "\n",
    "for i, (tran, tet) in enumerate(cv):\n",
    "    probas_ = classifier.fit(X[tran], y[tran]).predict_proba(X[tet])\n",
    "    # Compute ROC curve and area the curve\n",
    "    fpr, tpr, thresholds = roc_curve(y[tet], probas_[:, 1])\n",
    "    mean_tpr += interp(mean_fpr, fpr, tpr)\n",
    "    mean_tpr[0] = 0.0\n",
    "    roc_auc = auc(fpr, tpr)\n",
    "    plt.plot(fpr, tpr, lw=1, label='ROC fold %d (area = %0.2f)' % (i, roc_auc))\n",
    "\n",
    "plt.plot([0, 1], [0, 1], '--', color=(0.6, 0.6, 0.6), label='Luck')\n",
    "\n",
    "mean_tpr /= len(cv)\n",
    "mean_tpr[-1] = 1.0\n",
    "mean_auc = auc(mean_fpr, mean_tpr)\n",
    "plt.plot(mean_fpr, mean_tpr, 'k--',\n",
    "         label='Mean ROC (area = %0.2f)' % mean_auc, lw=2)\n",
    "\n",
    "plt.xlim([-0.05, 1.05])\n",
    "plt.ylim([-0.05, 1.05])\n",
    "plt.xlabel('False Positive Rate')\n",
    "plt.ylabel('True Positive Rate')\n",
    "plt.title('Receiver operating characteristic example')\n",
    "plt.legend(loc=\"lower right\")\n",
    "plt.show()\n"
   ]
  },
  {
   "cell_type": "code",
   "execution_count": 33,
   "metadata": {
    "trusted": true,
    "_uuid": "4adab470d12b9cfbef516dde59334c76431b6c4b"
   },
   "outputs": [
    {
     "name": "stdout",
     "output_type": "stream",
     "text": [
      "0.6711690945970865\n"
     ]
    }
   ],
   "source": [
    "rand = RandomForestClassifier(n_estimators=2000,max_depth=25,min_samples_leaf=1)\n",
    "#rand = GradientBoostingClassifier(n_estimators=1000,learning_rate=0.01)\n",
    "# rand = LogisticRegression()\n",
    "rand.fit(X_train[:1020],Y_train[:1020])\n",
    "prediction = rand.predict_proba(X_train[1020:])\n",
    "prediction_train = rand.predict_proba(X_train[:1020])\n",
    "# print (rand.feature_importances_)\n",
    "from sklearn import metrics\n",
    "print (metrics.roc_auc_score(Y_train[1020:], prediction[:,1]))"
   ]
  },
  {
   "cell_type": "code",
   "execution_count": 36,
   "metadata": {
    "trusted": true,
    "_uuid": "6841cbc181fc97a1a98ee25828176b213f67d6ac"
   },
   "outputs": [],
   "source": [
    "test = test_data\n",
    "X_test = test.drop(['bidder_id','payment_account','address'],axis=1)\n",
    "\n",
    "rand = RandomForestClassifier(n_estimators=1000,max_depth=25,min_samples_leaf=1)\n",
    "\n",
    "#print cross_val_score(svm,X_train,y_train,cv=10).mean()\n",
    "rand.fit(X_train,Y_train)\n",
    "prediction = rand.predict_proba(X_test)\n",
    "\n",
    "test['prediction'] = prediction[:,1]\n",
    "\n",
    "test[['bidder_id','prediction']].to_csv('submission.csv',index=False)"
   ]
  }
 ],
 "metadata": {
  "kernelspec": {
   "display_name": "Python 3",
   "language": "python",
   "name": "python3"
  },
  "language_info": {
   "name": "python",
   "version": "3.6.4",
   "mimetype": "text/x-python",
   "codemirror_mode": {
    "name": "ipython",
    "version": 3
   },
   "pygments_lexer": "ipython3",
   "nbconvert_exporter": "python",
   "file_extension": ".py"
  }
 },
 "nbformat": 4,
 "nbformat_minor": 1
}
